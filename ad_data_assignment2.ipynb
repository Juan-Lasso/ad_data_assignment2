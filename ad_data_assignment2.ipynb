{
 "cells": [
  {
   "cell_type": "code",
   "execution_count": 6,
   "id": "6b5ce138-c7ee-4d54-9930-66c61095db8f",
   "metadata": {},
   "outputs": [],
   "source": [
    "#First we are going to assign variables \n",
    "Chicago_murders = 762\n",
    "Chicago_population = 2_705_000\n",
    "LA_murders = 294 \n",
    "LA_population = 3_976_000\n",
    "NYC_murders = 334\n",
    "NYC_population = 8_538_000\n",
    "SanJose_murders = 47\n",
    "SanJose_population = 1_025_000\n",
    "\n",
    "\n"
   ]
  },
  {
   "cell_type": "code",
   "execution_count": 26,
   "id": "f015783f-e5cf-4d80-be8c-3adb7ac21ed4",
   "metadata": {},
   "outputs": [],
   "source": [
    "#The per 1,000 formula calculates the number of events divided by the total population times 1,000. We are calculating the rates for LA, NYC, Chicago, and San Jose\n",
    "Chicago_murder_rate = (Chicago_murders/Chicago_population) * 1_000\n",
    "LA_murder_rate = (LA_murders/LA_population) * 1_000\n",
    "NYC_murder_rate = (NYC_murders/NYC_population) * 1_000\n",
    "SanJose_murder_rate = (SanJose_murders/SanJose_population) * 1_000"
   ]
  },
  {
   "cell_type": "code",
   "execution_count": 22,
   "id": "c15b8b82-7183-48c5-a1f0-efaba80e3ad6",
   "metadata": {},
   "outputs": [
    {
     "name": "stdout",
     "output_type": "stream",
     "text": [
      "Chicago's murder rate is: 0.28170055452865067\n",
      "LA's murder rate is: 0.07394366197183098\n",
      "NYC's murder rate is: 0.03911923167018037\n",
      "San Jose's murder rate is: 0.045853658536585365\n"
     ]
    }
   ],
   "source": [
    "print(f\"Chicago's murder rate is: {Chicago_murder_rate}\")\n",
    "print(f\"LA's murder rate is: {LA_murder_rate}\")\n",
    "print(f\"NYC's murder rate is: {NYC_murder_rate}\")\n",
    "print(f\"San Jose's murder rate is: {SanJose_murder_rate}\") "
   ]
  },
  {
   "cell_type": "code",
   "execution_count": 28,
   "id": "624b6108-c0db-4913-9ad4-86bd50b32d4c",
   "metadata": {},
   "outputs": [
    {
     "name": "stdout",
     "output_type": "stream",
     "text": [
      "NYC has a murder rate of 0.03911923167018037, comparatively lower than Chicago, LA, and San Jose which have a murder rate of 0.28170055452865067,0.07394366197183098, and 0.045853658536585365, respectively.\n"
     ]
    }
   ],
   "source": [
    "#Which city has the lowest murder rate \n",
    "print(f\"NYC has a murder rate of {NYC_murder_rate}, comparatively lower than Chicago, LA, and San Jose which have a murder rate of {Chicago_murder_rate},{LA_murder_rate}, and {SanJose_murder_rate}, respectively.\")"
   ]
  },
  {
   "cell_type": "code",
   "execution_count": 32,
   "id": "4eea40a9-96b1-4805-97bb-df8ba14ba0ac",
   "metadata": {},
   "outputs": [
    {
     "name": "stdout",
     "output_type": "stream",
     "text": [
      "LA has a murder rate 0.07394366197183098, comparatively higher than Chicago, NYC, and San Jose which have a murder rate of 0.28170055452865067, 0.03911923167018037, 0.045853658536585365, respectively.\n"
     ]
    }
   ],
   "source": [
    "#Which city has the highest murder rate \n",
    "print(f\"LA has a murder rate {LA_murder_rate}, comparatively higher than Chicago, NYC, and San Jose which have a murder rate of {Chicago_murder_rate}, {NYC_murder_rate}, {SanJose_murder_rate}, respectively.\")"
   ]
  }
 ],
 "metadata": {
  "kernelspec": {
   "display_name": "Python [conda env:base] *",
   "language": "python",
   "name": "conda-base-py"
  },
  "language_info": {
   "codemirror_mode": {
    "name": "ipython",
    "version": 3
   },
   "file_extension": ".py",
   "mimetype": "text/x-python",
   "name": "python",
   "nbconvert_exporter": "python",
   "pygments_lexer": "ipython3",
   "version": "3.12.7"
  }
 },
 "nbformat": 4,
 "nbformat_minor": 5
}
